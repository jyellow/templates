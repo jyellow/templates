{
 "cells": [
  {
   "cell_type": "markdown",
   "id": "fd8c7571",
   "metadata": {
    "_cell_guid": "d4734507-8c87-4fe5-ad71-f1789bb400c2",
    "_uuid": "356f0198ce3ebd1a9602827cb866938db94f010a",
    "papermill": {
     "duration": 0.004067,
     "end_time": "2024-07-30T07:41:52.638712",
     "exception": false,
     "start_time": "2024-07-30T07:41:52.634645",
     "status": "completed"
    },
    "tags": []
   },
   "source": [
    "# XGBoost 模板"
   ]
  },
  {
   "cell_type": "code",
   "execution_count": 1,
   "id": "cd0d66d6",
   "metadata": {
    "_cell_guid": "5ccb0b52-f433-4372-8a52-45867798bf52",
    "_kg_hide-input": false,
    "_uuid": "404e28f23a168f94ffba7d1259cea21281ca0b28",
    "execution": {
     "iopub.execute_input": "2024-07-30T07:41:52.647777Z",
     "iopub.status.busy": "2024-07-30T07:41:52.647378Z",
     "iopub.status.idle": "2024-07-30T07:41:55.079841Z",
     "shell.execute_reply": "2024-07-30T07:41:55.078964Z"
    },
    "papermill": {
     "duration": 2.439865,
     "end_time": "2024-07-30T07:41:55.082414",
     "exception": false,
     "start_time": "2024-07-30T07:41:52.642549",
     "status": "completed"
    },
    "tags": []
   },
   "outputs": [],
   "source": [
    "import pandas as pd\n",
    "from sklearn.model_selection import train_test_split\n",
    "from sklearn.impute import SimpleImputer\n",
    "from sklearn.metrics import mean_absolute_error\n",
    "from xgboost import XGBRegressor"
   ]
  },
  {
   "cell_type": "markdown",
   "id": "9f7aa4e6",
   "metadata": {
    "papermill": {
     "duration": 0.00345,
     "end_time": "2024-07-30T07:41:55.089730",
     "exception": false,
     "start_time": "2024-07-30T07:41:55.086280",
     "status": "completed"
    },
    "tags": []
   },
   "source": [
    "## 1. 读取数据集，构建训练数据"
   ]
  },
  {
   "cell_type": "code",
   "execution_count": 2,
   "id": "001ff78e",
   "metadata": {
    "execution": {
     "iopub.execute_input": "2024-07-30T07:41:55.099024Z",
     "iopub.status.busy": "2024-07-30T07:41:55.097995Z",
     "iopub.status.idle": "2024-07-30T07:41:55.153023Z",
     "shell.execute_reply": "2024-07-30T07:41:55.151823Z"
    },
    "papermill": {
     "duration": 0.062428,
     "end_time": "2024-07-30T07:41:55.155666",
     "exception": false,
     "start_time": "2024-07-30T07:41:55.093238",
     "status": "completed"
    },
    "tags": []
   },
   "outputs": [],
   "source": [
    "data = pd.read_csv('../input/house-prices-advanced-regression-techniques/train.csv')\n",
    "data.dropna(axis=0, subset=['SalePrice'], inplace=True)"
   ]
  },
  {
   "cell_type": "code",
   "execution_count": 3,
   "id": "1a7818ef",
   "metadata": {
    "execution": {
     "iopub.execute_input": "2024-07-30T07:41:55.165167Z",
     "iopub.status.busy": "2024-07-30T07:41:55.164443Z",
     "iopub.status.idle": "2024-07-30T07:41:55.177127Z",
     "shell.execute_reply": "2024-07-30T07:41:55.175973Z"
    },
    "papermill": {
     "duration": 0.02006,
     "end_time": "2024-07-30T07:41:55.179465",
     "exception": false,
     "start_time": "2024-07-30T07:41:55.159405",
     "status": "completed"
    },
    "tags": []
   },
   "outputs": [
    {
     "name": "stdout",
     "output_type": "stream",
     "text": [
      "(1460,)\n",
      "(1460, 37)\n"
     ]
    }
   ],
   "source": [
    "y = data.SalePrice\n",
    "X = data.drop(['SalePrice'], axis=1).select_dtypes(exclude=['object'])\n",
    "print(y.shape)\n",
    "print(X.shape)"
   ]
  },
  {
   "cell_type": "code",
   "execution_count": 4,
   "id": "facf9f1f",
   "metadata": {
    "execution": {
     "iopub.execute_input": "2024-07-30T07:41:55.189141Z",
     "iopub.status.busy": "2024-07-30T07:41:55.188124Z",
     "iopub.status.idle": "2024-07-30T07:41:55.206947Z",
     "shell.execute_reply": "2024-07-30T07:41:55.205928Z"
    },
    "papermill": {
     "duration": 0.026224,
     "end_time": "2024-07-30T07:41:55.209457",
     "exception": false,
     "start_time": "2024-07-30T07:41:55.183233",
     "status": "completed"
    },
    "tags": []
   },
   "outputs": [],
   "source": [
    "train_X, test_X, train_y, test_y = train_test_split(\n",
    "    X, \n",
    "    y, \n",
    "    test_size=0.25\n",
    ")\n",
    "\n",
    "my_imputer = SimpleImputer()\n",
    "train_X = my_imputer.fit_transform(train_X)\n",
    "test_X = my_imputer.transform(test_X)"
   ]
  },
  {
   "cell_type": "code",
   "execution_count": 5,
   "id": "2e7a26ae",
   "metadata": {
    "execution": {
     "iopub.execute_input": "2024-07-30T07:41:55.218984Z",
     "iopub.status.busy": "2024-07-30T07:41:55.218175Z",
     "iopub.status.idle": "2024-07-30T07:41:55.224039Z",
     "shell.execute_reply": "2024-07-30T07:41:55.222948Z"
    },
    "papermill": {
     "duration": 0.013748,
     "end_time": "2024-07-30T07:41:55.227018",
     "exception": false,
     "start_time": "2024-07-30T07:41:55.213270",
     "status": "completed"
    },
    "tags": []
   },
   "outputs": [
    {
     "name": "stdout",
     "output_type": "stream",
     "text": [
      "(1095, 37)\n",
      "(1095,)\n",
      "(365, 37)\n",
      "(365,)\n"
     ]
    }
   ],
   "source": [
    "print(train_X.shape)\n",
    "print(train_y.shape)\n",
    "\n",
    "print(test_X.shape)\n",
    "print(test_y.shape)"
   ]
  },
  {
   "cell_type": "markdown",
   "id": "4ef1a87d",
   "metadata": {
    "_cell_guid": "622a2efe-1abf-4da3-a96c-3d44b6a6b66e",
    "_uuid": "dff675a1dd68320a6956e7814b34c096a7a6b2c7",
    "papermill": {
     "duration": 0.003513,
     "end_time": "2024-07-30T07:41:55.234342",
     "exception": false,
     "start_time": "2024-07-30T07:41:55.230829",
     "status": "completed"
    },
    "tags": []
   },
   "source": [
    "## 2. 定义XGBoost模型和超参数配置"
   ]
  },
  {
   "cell_type": "code",
   "execution_count": 6,
   "id": "897cafe6",
   "metadata": {
    "_cell_guid": "cd8dedb3-c968-46eb-a714-368543067f82",
    "_kg_hide-output": true,
    "_uuid": "4989d6fc83a32eefcf968ada8a24539774c0353d",
    "execution": {
     "iopub.execute_input": "2024-07-30T07:41:55.243509Z",
     "iopub.status.busy": "2024-07-30T07:41:55.243162Z",
     "iopub.status.idle": "2024-07-30T07:41:55.248404Z",
     "shell.execute_reply": "2024-07-30T07:41:55.247347Z"
    },
    "papermill": {
     "duration": 0.01247,
     "end_time": "2024-07-30T07:41:55.250550",
     "exception": false,
     "start_time": "2024-07-30T07:41:55.238080",
     "status": "completed"
    },
    "tags": []
   },
   "outputs": [],
   "source": [
    "my_model1 = XGBRegressor()\n",
    "my_model2 = XGBRegressor(n_estimators=1000)\n",
    "my_model3 = XGBRegressor(n_estimators=1000, learning_rate=0.05)\n"
   ]
  },
  {
   "cell_type": "markdown",
   "id": "e4ff64a5",
   "metadata": {
    "papermill": {
     "duration": 0.003637,
     "end_time": "2024-07-30T07:41:55.258501",
     "exception": false,
     "start_time": "2024-07-30T07:41:55.254864",
     "status": "completed"
    },
    "tags": []
   },
   "source": [
    "## 3. 模型训练"
   ]
  },
  {
   "cell_type": "code",
   "execution_count": 7,
   "id": "2383df16",
   "metadata": {
    "_cell_guid": "81a7a6b4-0054-4695-b442-558f927efca0",
    "_uuid": "0296bd0ec89993c0d3d5a6ab33aaa8fb2573b978",
    "execution": {
     "iopub.execute_input": "2024-07-30T07:41:55.267887Z",
     "iopub.status.busy": "2024-07-30T07:41:55.267481Z",
     "iopub.status.idle": "2024-07-30T07:42:01.056212Z",
     "shell.execute_reply": "2024-07-30T07:42:01.053890Z"
    },
    "papermill": {
     "duration": 5.797125,
     "end_time": "2024-07-30T07:42:01.059414",
     "exception": false,
     "start_time": "2024-07-30T07:41:55.262289",
     "status": "completed"
    },
    "tags": []
   },
   "outputs": [
    {
     "data": {
      "text/html": [
       "<style>#sk-container-id-1 {color: black;background-color: white;}#sk-container-id-1 pre{padding: 0;}#sk-container-id-1 div.sk-toggleable {background-color: white;}#sk-container-id-1 label.sk-toggleable__label {cursor: pointer;display: block;width: 100%;margin-bottom: 0;padding: 0.3em;box-sizing: border-box;text-align: center;}#sk-container-id-1 label.sk-toggleable__label-arrow:before {content: \"▸\";float: left;margin-right: 0.25em;color: #696969;}#sk-container-id-1 label.sk-toggleable__label-arrow:hover:before {color: black;}#sk-container-id-1 div.sk-estimator:hover label.sk-toggleable__label-arrow:before {color: black;}#sk-container-id-1 div.sk-toggleable__content {max-height: 0;max-width: 0;overflow: hidden;text-align: left;background-color: #f0f8ff;}#sk-container-id-1 div.sk-toggleable__content pre {margin: 0.2em;color: black;border-radius: 0.25em;background-color: #f0f8ff;}#sk-container-id-1 input.sk-toggleable__control:checked~div.sk-toggleable__content {max-height: 200px;max-width: 100%;overflow: auto;}#sk-container-id-1 input.sk-toggleable__control:checked~label.sk-toggleable__label-arrow:before {content: \"▾\";}#sk-container-id-1 div.sk-estimator input.sk-toggleable__control:checked~label.sk-toggleable__label {background-color: #d4ebff;}#sk-container-id-1 div.sk-label input.sk-toggleable__control:checked~label.sk-toggleable__label {background-color: #d4ebff;}#sk-container-id-1 input.sk-hidden--visually {border: 0;clip: rect(1px 1px 1px 1px);clip: rect(1px, 1px, 1px, 1px);height: 1px;margin: -1px;overflow: hidden;padding: 0;position: absolute;width: 1px;}#sk-container-id-1 div.sk-estimator {font-family: monospace;background-color: #f0f8ff;border: 1px dotted black;border-radius: 0.25em;box-sizing: border-box;margin-bottom: 0.5em;}#sk-container-id-1 div.sk-estimator:hover {background-color: #d4ebff;}#sk-container-id-1 div.sk-parallel-item::after {content: \"\";width: 100%;border-bottom: 1px solid gray;flex-grow: 1;}#sk-container-id-1 div.sk-label:hover label.sk-toggleable__label {background-color: #d4ebff;}#sk-container-id-1 div.sk-serial::before {content: \"\";position: absolute;border-left: 1px solid gray;box-sizing: border-box;top: 0;bottom: 0;left: 50%;z-index: 0;}#sk-container-id-1 div.sk-serial {display: flex;flex-direction: column;align-items: center;background-color: white;padding-right: 0.2em;padding-left: 0.2em;position: relative;}#sk-container-id-1 div.sk-item {position: relative;z-index: 1;}#sk-container-id-1 div.sk-parallel {display: flex;align-items: stretch;justify-content: center;background-color: white;position: relative;}#sk-container-id-1 div.sk-item::before, #sk-container-id-1 div.sk-parallel-item::before {content: \"\";position: absolute;border-left: 1px solid gray;box-sizing: border-box;top: 0;bottom: 0;left: 50%;z-index: -1;}#sk-container-id-1 div.sk-parallel-item {display: flex;flex-direction: column;z-index: 1;position: relative;background-color: white;}#sk-container-id-1 div.sk-parallel-item:first-child::after {align-self: flex-end;width: 50%;}#sk-container-id-1 div.sk-parallel-item:last-child::after {align-self: flex-start;width: 50%;}#sk-container-id-1 div.sk-parallel-item:only-child::after {width: 0;}#sk-container-id-1 div.sk-dashed-wrapped {border: 1px dashed gray;margin: 0 0.4em 0.5em 0.4em;box-sizing: border-box;padding-bottom: 0.4em;background-color: white;}#sk-container-id-1 div.sk-label label {font-family: monospace;font-weight: bold;display: inline-block;line-height: 1.2em;}#sk-container-id-1 div.sk-label-container {text-align: center;}#sk-container-id-1 div.sk-container {/* jupyter's `normalize.less` sets `[hidden] { display: none; }` but bootstrap.min.css set `[hidden] { display: none !important; }` so we also need the `!important` here to be able to override the default hidden behavior on the sphinx rendered scikit-learn.org. See: https://github.com/scikit-learn/scikit-learn/issues/21755 */display: inline-block !important;position: relative;}#sk-container-id-1 div.sk-text-repr-fallback {display: none;}</style><div id=\"sk-container-id-1\" class=\"sk-top-container\"><div class=\"sk-text-repr-fallback\"><pre>XGBRegressor(base_score=None, booster=None, callbacks=None,\n",
       "             colsample_bylevel=None, colsample_bynode=None,\n",
       "             colsample_bytree=None, device=None, early_stopping_rounds=None,\n",
       "             enable_categorical=False, eval_metric=None, feature_types=None,\n",
       "             gamma=None, grow_policy=None, importance_type=None,\n",
       "             interaction_constraints=None, learning_rate=0.05, max_bin=None,\n",
       "             max_cat_threshold=None, max_cat_to_onehot=None,\n",
       "             max_delta_step=None, max_depth=None, max_leaves=None,\n",
       "             min_child_weight=None, missing=nan, monotone_constraints=None,\n",
       "             multi_strategy=None, n_estimators=1000, n_jobs=None,\n",
       "             num_parallel_tree=None, random_state=None, ...)</pre><b>In a Jupyter environment, please rerun this cell to show the HTML representation or trust the notebook. <br />On GitHub, the HTML representation is unable to render, please try loading this page with nbviewer.org.</b></div><div class=\"sk-container\" hidden><div class=\"sk-item\"><div class=\"sk-estimator sk-toggleable\"><input class=\"sk-toggleable__control sk-hidden--visually\" id=\"sk-estimator-id-1\" type=\"checkbox\" checked><label for=\"sk-estimator-id-1\" class=\"sk-toggleable__label sk-toggleable__label-arrow\">XGBRegressor</label><div class=\"sk-toggleable__content\"><pre>XGBRegressor(base_score=None, booster=None, callbacks=None,\n",
       "             colsample_bylevel=None, colsample_bynode=None,\n",
       "             colsample_bytree=None, device=None, early_stopping_rounds=None,\n",
       "             enable_categorical=False, eval_metric=None, feature_types=None,\n",
       "             gamma=None, grow_policy=None, importance_type=None,\n",
       "             interaction_constraints=None, learning_rate=0.05, max_bin=None,\n",
       "             max_cat_threshold=None, max_cat_to_onehot=None,\n",
       "             max_delta_step=None, max_depth=None, max_leaves=None,\n",
       "             min_child_weight=None, missing=nan, monotone_constraints=None,\n",
       "             multi_strategy=None, n_estimators=1000, n_jobs=None,\n",
       "             num_parallel_tree=None, random_state=None, ...)</pre></div></div></div></div></div>"
      ],
      "text/plain": [
       "XGBRegressor(base_score=None, booster=None, callbacks=None,\n",
       "             colsample_bylevel=None, colsample_bynode=None,\n",
       "             colsample_bytree=None, device=None, early_stopping_rounds=None,\n",
       "             enable_categorical=False, eval_metric=None, feature_types=None,\n",
       "             gamma=None, grow_policy=None, importance_type=None,\n",
       "             interaction_constraints=None, learning_rate=0.05, max_bin=None,\n",
       "             max_cat_threshold=None, max_cat_to_onehot=None,\n",
       "             max_delta_step=None, max_depth=None, max_leaves=None,\n",
       "             min_child_weight=None, missing=nan, monotone_constraints=None,\n",
       "             multi_strategy=None, n_estimators=1000, n_jobs=None,\n",
       "             num_parallel_tree=None, random_state=None, ...)"
      ]
     },
     "execution_count": 7,
     "metadata": {},
     "output_type": "execute_result"
    }
   ],
   "source": [
    "my_model1.fit(\n",
    "    train_X, \n",
    "    train_y, \n",
    "    verbose=False\n",
    ")\n",
    "\n",
    "my_model2.fit(\n",
    "    train_X, \n",
    "    train_y,\n",
    "    eval_set=[(test_X, test_y)],\n",
    "    verbose=False\n",
    ")\n",
    "\n",
    "my_model3.fit(\n",
    "    train_X, \n",
    "    train_y,\n",
    "    eval_set=[(test_X, test_y)],\n",
    "    verbose=False\n",
    ")\n"
   ]
  },
  {
   "cell_type": "markdown",
   "id": "8dd61bfd",
   "metadata": {
    "papermill": {
     "duration": 0.003851,
     "end_time": "2024-07-30T07:42:01.067735",
     "exception": false,
     "start_time": "2024-07-30T07:42:01.063884",
     "status": "completed"
    },
    "tags": []
   },
   "source": [
    "## 4. 使用模型预测数据"
   ]
  },
  {
   "cell_type": "code",
   "execution_count": 8,
   "id": "5d8d379c",
   "metadata": {
    "execution": {
     "iopub.execute_input": "2024-07-30T07:42:01.077459Z",
     "iopub.status.busy": "2024-07-30T07:42:01.077037Z",
     "iopub.status.idle": "2024-07-30T07:42:01.106080Z",
     "shell.execute_reply": "2024-07-30T07:42:01.102338Z"
    },
    "papermill": {
     "duration": 0.036741,
     "end_time": "2024-07-30T07:42:01.108518",
     "exception": false,
     "start_time": "2024-07-30T07:42:01.071777",
     "status": "completed"
    },
    "tags": []
   },
   "outputs": [
    {
     "name": "stdout",
     "output_type": "stream",
     "text": [
      "Mean Absolute Error : 18528.91368792808\n",
      "Mean Absolute Error : 18560.811065924656\n",
      "Mean Absolute Error : 17154.058604452053\n"
     ]
    }
   ],
   "source": [
    "predictions1 = my_model1.predict(test_X)\n",
    "predictions2 = my_model2.predict(test_X)\n",
    "predictions3 = my_model3.predict(test_X)\n",
    "\n",
    "\n",
    "error1 = mean_absolute_error(predictions1, test_y)\n",
    "error2 = mean_absolute_error(predictions2, test_y)\n",
    "error3 = mean_absolute_error(predictions3, test_y)\n",
    "\n",
    "\n",
    "print(f\"Mean Absolute Error : {error1}\")\n",
    "print(f\"Mean Absolute Error : {error2}\")\n",
    "print(f\"Mean Absolute Error : {error3}\")"
   ]
  }
 ],
 "metadata": {
  "kaggle": {
   "accelerator": "none",
   "dataSources": [
    {
     "databundleVersionId": 868283,
     "sourceId": 5407,
     "sourceType": "competition"
    }
   ],
   "dockerImageVersionId": 30746,
   "isGpuEnabled": false,
   "isInternetEnabled": true,
   "language": "python",
   "sourceType": "notebook"
  },
  "kernelspec": {
   "display_name": "Python 3",
   "language": "python",
   "name": "python3"
  },
  "language_info": {
   "codemirror_mode": {
    "name": "ipython",
    "version": 3
   },
   "file_extension": ".py",
   "mimetype": "text/x-python",
   "name": "python",
   "nbconvert_exporter": "python",
   "pygments_lexer": "ipython3",
   "version": "3.10.13"
  },
  "papermill": {
   "default_parameters": {},
   "duration": 11.971454,
   "end_time": "2024-07-30T07:42:01.732832",
   "environment_variables": {},
   "exception": null,
   "input_path": "__notebook__.ipynb",
   "output_path": "__notebook__.ipynb",
   "parameters": {},
   "start_time": "2024-07-30T07:41:49.761378",
   "version": "2.5.0"
  }
 },
 "nbformat": 4,
 "nbformat_minor": 5
}
